{
 "cells": [
  {
   "cell_type": "markdown",
   "metadata": {},
   "source": [
    "# week 10 information theory."
   ]
  },
  {
   "cell_type": "code",
   "execution_count": null,
   "metadata": {},
   "outputs": [],
   "source": [
    "print(\"Hello,world\")\n"
   ]
  },
  {
   "cell_type": "code",
   "execution_count": null,
   "metadata": {},
   "outputs": [],
   "source": [
    "import zlib #also izma\n",
    "\n",
    "text = \"here is some text some text text text with repition\"\n",
    "print(f\"orginal text {len(text)} bytes:\", text)\n",
    "\n",
    "text_bytes = text.encode('ascii')\n",
    "comp = zlib.compress(text_bytes)\n",
    "print(f\"compressed text {len(comp)} bytes:\", comp)\n",
    "\n",
    "decomp = zlib.decompress(comp)\n",
    "print(\"decompressed text:\", decomp.decode('ascii'))\n",
    "\n",
    "ratio = len(comp) / len(text_bytes)\n",
    "print(f\"compression ration: {ratio:.2f}\")\n"
   ]
  }
 ],
 "metadata": {
  "language_info": {
   "name": "python"
  }
 },
 "nbformat": 4,
 "nbformat_minor": 2
}
